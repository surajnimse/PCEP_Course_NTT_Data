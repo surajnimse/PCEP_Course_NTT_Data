{
  "nbformat": 4,
  "nbformat_minor": 0,
  "metadata": {
    "colab": {
      "provenance": [],
      "include_colab_link": true
    },
    "kernelspec": {
      "name": "python3",
      "display_name": "Python 3"
    },
    "language_info": {
      "name": "python"
    }
  },
  "cells": [
    {
      "cell_type": "markdown",
      "metadata": {
        "id": "view-in-github",
        "colab_type": "text"
      },
      "source": [
        "<a href=\"https://colab.research.google.com/github/surajnimse/PCEP_Course_NTT_Data/blob/main/pcep_getting_started_with_python_introduction.ipynb\" target=\"_parent\"><img src=\"https://colab.research.google.com/assets/colab-badge.svg\" alt=\"Open In Colab\"/></a>"
      ]
    },
    {
      "cell_type": "markdown",
      "source": [],
      "metadata": {
        "id": "kzedX0b3y6P0"
      }
    },
    {
      "cell_type": "code",
      "source": [],
      "metadata": {
        "id": "J3F7rLNUv4I-"
      },
      "execution_count": null,
      "outputs": []
    },
    {
      "cell_type": "code",
      "source": [
        "13//5"
      ],
      "metadata": {
        "id": "nuaYpDCKzoNY"
      },
      "execution_count": null,
      "outputs": []
    },
    {
      "cell_type": "code",
      "source": [
        "num1=10\n",
        "num2=20\n",
        "num3=num1 #\n",
        "num1=100\n",
        "print(num1,num2,num3)"
      ],
      "metadata": {
        "id": "zn5A8FHcz9bL"
      },
      "execution_count": null,
      "outputs": []
    },
    {
      "cell_type": "code",
      "source": [
        "'''\n",
        "num_x=\"2\"\n",
        "print(num_x)\n",
        "print(type(num_x))\n",
        "'''\n",
        "'''\n",
        "num_x==2\n",
        "print(num_x)\n",
        "print(type(num_x))\n",
        "'''\n",
        "num_x=2\n",
        "print(num_x)\n",
        "print(type(num_x))\n",
        "\n",
        "\n",
        "num_x=6-4\n",
        "print(num_x)\n",
        "print(type(num_x))\n",
        "\n"
      ],
      "metadata": {
        "id": "vOaFoydh0foz"
      },
      "execution_count": null,
      "outputs": []
    },
    {
      "cell_type": "code",
      "source": [
        "\"hello\"+\"world\"\n",
        "\"hello\"*3"
      ],
      "metadata": {
        "id": "tK6B5Bif10ll"
      },
      "execution_count": null,
      "outputs": []
    },
    {
      "cell_type": "code",
      "source": [
        "a=True\n",
        "b=True\n",
        "not b"
      ],
      "metadata": {
        "id": "igxZolM-2Q-Z"
      },
      "execution_count": null,
      "outputs": []
    },
    {
      "cell_type": "code",
      "source": [
        "'''''\n",
        "multi\n",
        "license\n",
        "'''''"
      ],
      "metadata": {
        "id": "lS9KBOLx2r12"
      },
      "execution_count": null,
      "outputs": []
    },
    {
      "cell_type": "code",
      "source": [
        "\"python --version\""
      ],
      "metadata": {
        "id": "SeHuquhq3Zgs"
      },
      "execution_count": null,
      "outputs": []
    },
    {
      "cell_type": "code",
      "source": [
        "bool\n",
        "number\n",
        "float\n",
        "character\n",
        "int"
      ],
      "metadata": {
        "id": "0ligGWLO3tGy"
      },
      "execution_count": null,
      "outputs": []
    },
    {
      "cell_type": "code",
      "source": [
        "cool_number = 12 + 30\n",
        "cool_number * 5\n",
        "print(cool_number)"
      ],
      "metadata": {
        "id": "tikcIb9DFAOD"
      },
      "execution_count": null,
      "outputs": []
    },
    {
      "cell_type": "code",
      "source": [
        "o_c = \"40.6\"\n",
        "n_c = \"60.8\"\n",
        "t_c = o_c + n_c\n",
        "t_c"
      ],
      "metadata": {
        "id": "r3XtkpKHv5b9"
      },
      "execution_count": null,
      "outputs": []
    },
    {
      "cell_type": "code",
      "source": [
        "t_c = float(o_c) + float(n_c)\n",
        "t_c"
      ],
      "metadata": {
        "id": "nb6Eko14wMVc"
      },
      "execution_count": null,
      "outputs": []
    },
    {
      "cell_type": "code",
      "source": [
        "value_str = \"Python world\"\n",
        "value_str = list(value_str)\n",
        "value_str"
      ],
      "metadata": {
        "id": "pri2L-ZSwsf9"
      },
      "execution_count": null,
      "outputs": []
    },
    {
      "cell_type": "code",
      "source": [
        "#swapping numbers\n",
        "a=20\n",
        "b=30\n",
        "c=0\n",
        "c=a\n",
        "a=b\n",
        "b=c\n",
        "print(\"a =\",a)\n",
        "print(\"b =\",b)"
      ],
      "metadata": {
        "id": "pNc_SAqJIgcN"
      },
      "execution_count": null,
      "outputs": []
    },
    {
      "cell_type": "code",
      "source": [
        "a=\"six\"\n",
        "b=(int(a),float(a))"
      ],
      "metadata": {
        "id": "NJmStI1KSnVg"
      },
      "execution_count": null,
      "outputs": []
    },
    {
      "cell_type": "code",
      "source": [
        "a = [1, 'one', {2: 'two'}, 3]\n",
        "b = len(a)\n",
        "\n",
        "if b == 4:\n",
        "   print('Length of this list is 4')\n",
        "   if b == 5:\n",
        "       print('Length of this list is 5')\n",
        "   else:\n",
        "         print(b)\n"
      ],
      "metadata": {
        "id": "IGiJMyM6TCTP"
      },
      "execution_count": null,
      "outputs": []
    },
    {
      "cell_type": "code",
      "source": [
        "new_list = [\"Red\", \"Blue\", \"White\", \"Green\"]\n",
        "z = sorted(new_list)\n",
        "#d = list(z)\n",
        "print(z)\n",
        "#print(d)"
      ],
      "metadata": {
        "id": "1j_UbkFuTlD1"
      },
      "execution_count": null,
      "outputs": []
    },
    {
      "cell_type": "code",
      "source": [
        "value = 4\n",
        "\n",
        "a = str(value)\n",
        "b = a + \"^\" + \"2\"\n",
        "c = a + \"^\" + \"3\"\n",
        "\n",
        "print(value, \"+\", b, \"+\", c)\n"
      ],
      "metadata": {
        "id": "UKXnnTYEUfV_"
      },
      "execution_count": null,
      "outputs": []
    },
    {
      "cell_type": "code",
      "source": [
        "if 'bin' in {'float': 1.2, 'bin': 0b010}:\n",
        "     print('a')\n",
        "     print('b')\n",
        "print('c')\n"
      ],
      "metadata": {
        "id": "ZCUU80wTVdUf"
      },
      "execution_count": null,
      "outputs": []
    },
    {
      "cell_type": "code",
      "source": [
        "if None:\n",
        "  print('Hi')\n"
      ],
      "metadata": {
        "id": "_xysWUGqVncH"
      },
      "execution_count": null,
      "outputs": []
    },
    {
      "cell_type": "code",
      "source": [
        "#What are the results of evaluating the conditional expression?\n",
        "\n",
        "a = 5\n",
        "b = 10\n",
        "c = \"five\"\n",
        "#a == c\n",
        "#a >= b\n",
        "not(a < b and a > b)\n"
      ],
      "metadata": {
        "id": "53D5GK6TV59c"
      },
      "execution_count": null,
      "outputs": []
    },
    {
      "cell_type": "code",
      "source": [
        "'1' + '2'\n"
      ],
      "metadata": {
        "id": "NKLaQKzLXTpV"
      },
      "execution_count": null,
      "outputs": []
    },
    {
      "cell_type": "code",
      "source": [
        "# For Loops\n",
        "\n",
        "for i in range(10):\n",
        "  print(i)"
      ],
      "metadata": {
        "id": "87dHCDmrj_kQ"
      },
      "execution_count": null,
      "outputs": []
    },
    {
      "cell_type": "code",
      "source": [
        "for letter in 'hello':\n",
        "  print(letter)"
      ],
      "metadata": {
        "id": "GbgK3Xx_kI8g"
      },
      "execution_count": null,
      "outputs": []
    },
    {
      "cell_type": "code",
      "source": [
        "for letter in ['h','e','l','l','o']:\n",
        "  print(letter)"
      ],
      "metadata": {
        "id": "2IhPavaTkI5f"
      },
      "execution_count": null,
      "outputs": []
    },
    {
      "cell_type": "code",
      "source": [
        "for char in 'hello':\n",
        "  print(char)"
      ],
      "metadata": {
        "id": "hfl7Kn4pkI2f"
      },
      "execution_count": null,
      "outputs": []
    },
    {
      "cell_type": "code",
      "source": [
        "my_str=\"Hello World\"\n",
        "for char in my_str:\n",
        "  print(char)"
      ],
      "metadata": {
        "id": "8D0Vtqo8kIzf"
      },
      "execution_count": null,
      "outputs": []
    },
    {
      "cell_type": "code",
      "source": [
        "for digit in \"10\":\n",
        "  print(digit)"
      ],
      "metadata": {
        "id": "FxfTYhXXkIwv"
      },
      "execution_count": null,
      "outputs": []
    },
    {
      "cell_type": "code",
      "source": [
        "for digit in 10:\n",
        "  print(digit)"
      ],
      "metadata": {
        "id": "KAX5EJaqkItv"
      },
      "execution_count": null,
      "outputs": []
    },
    {
      "cell_type": "code",
      "source": [
        "for country in \"India\",\"USA\",\"UK\":\n",
        "  print(country)"
      ],
      "metadata": {
        "id": "REha6gxdkIqf"
      },
      "execution_count": null,
      "outputs": []
    },
    {
      "cell_type": "code",
      "source": [
        "dogs= (\"pug\",\"husky\",\"golden retriever\")\n",
        "for dog in dogs:\n",
        "  print(\"its a \",dog)"
      ],
      "metadata": {
        "id": "yshb57dTkIm_"
      },
      "execution_count": null,
      "outputs": []
    },
    {
      "cell_type": "code",
      "source": [
        "dog_weight = ((\"Pug\",20),\n",
        "              (\"husky\",80),\n",
        "              (\"golden retriever\",50),\n",
        "              (\"bullmust\",40),\n",
        "              (\"bulldog\",40),\n",
        "              )\n",
        "for i,(dog,weight) in enumerate(dog_weight):\n",
        "  print(\"The dog at index %d is a %s and it's weight is %s\"%(i,dog,weight))"
      ],
      "metadata": {
        "id": "wDlvs9cikIc_"
      },
      "execution_count": null,
      "outputs": []
    },
    {
      "cell_type": "code",
      "source": [
        "friends = [\"John\",\"Sam\",\"Jill\"]\n",
        "for friends in friends:\n",
        "  print(\"Happy New Year,\",friends)"
      ],
      "metadata": {
        "id": "jbTgJuKboHtP"
      },
      "execution_count": null,
      "outputs": []
    },
    {
      "cell_type": "code",
      "source": [
        "students_score = {\"John\":70,\"Sam\":80,\"Jill\":50,\"jack\":45,\"cook\":89,\"stell\":46}\n",
        "for student in students_score:\n",
        "  print(student)"
      ],
      "metadata": {
        "id": "Sypy7YeVoHqY"
      },
      "execution_count": null,
      "outputs": []
    },
    {
      "cell_type": "code",
      "source": [
        "for student in students_score:\n",
        "  score = students_score[student]\n",
        "  print(student,\" : \",score)"
      ],
      "metadata": {
        "id": "IzLJYQXPoHnG"
      },
      "execution_count": null,
      "outputs": []
    },
    {
      "cell_type": "code",
      "source": [
        "students_score.keys()"
      ],
      "metadata": {
        "id": "gzX_WNKJoHju"
      },
      "execution_count": null,
      "outputs": []
    },
    {
      "cell_type": "code",
      "source": [
        "students_score.values()"
      ],
      "metadata": {
        "id": "iJDuaw8boHhA"
      },
      "execution_count": null,
      "outputs": []
    },
    {
      "cell_type": "code",
      "source": [
        "for key in students_score:\n",
        "  print(key,students_score[key])"
      ],
      "metadata": {
        "id": "nrSKA8NOoHdu"
      },
      "execution_count": null,
      "outputs": []
    },
    {
      "cell_type": "code",
      "source": [
        "for key_value in students_score.items():\n",
        "  print(key_value)\n",
        "print(type(key_value))"
      ],
      "metadata": {
        "id": "FzwI-8AboHav"
      },
      "execution_count": null,
      "outputs": []
    },
    {
      "cell_type": "code",
      "source": [
        "# Else\n",
        "\n",
        "for student,score in students_score.items():\n",
        "  print(\"Student :\", student,\"\\t Score\", score)\n",
        "else:\n",
        "  print(\"Loop Completed\")"
      ],
      "metadata": {
        "id": "U7PuTDtUoHX3"
      },
      "execution_count": null,
      "outputs": []
    },
    {
      "cell_type": "code",
      "source": [
        "numbers = [4,6,9,10]\n",
        "for num in numbers:\n",
        "  quotient = num //2\n",
        "  print(quotient, \"is the quotient of\", num, \"/2\")\n",
        "else:\n",
        "  print(\"All the numbers are processed\")"
      ],
      "metadata": {
        "id": "ET1AzSiRoHVG"
      },
      "execution_count": null,
      "outputs": []
    },
    {
      "cell_type": "code",
      "source": [
        "mixed_list = [145,\n",
        "              10.5,\n",
        "              1+3j,\n",
        "              True,\n",
        "              \"Python\",\n",
        "              (0,-1),\n",
        "               [2,-5],\n",
        "               {\"Class\":\"V\",\"Section\":\"A\"},\n",
        "              ]\n",
        "for item in mixed_list:\n",
        "  print(\"Type of \",item,\"is\",type(item))\n"
      ],
      "metadata": {
        "id": "9DDBH32moHSO"
      },
      "execution_count": null,
      "outputs": []
    },
    {
      "cell_type": "code",
      "source": [
        "num_list = [2,4,6,8,10]\n",
        "for num in num_list:\n",
        "  square = num**2\n",
        "  #print(\"Square of \",num,\"is\",num**2)   #directly calculated in print statement.\n",
        "  print(\"Square of \",num,\"is\",square)"
      ],
      "metadata": {
        "id": "2yrinD2ooHO3"
      },
      "execution_count": null,
      "outputs": []
    },
    {
      "cell_type": "code",
      "source": [
        "string = input(\"Enter a string: \")\n",
        "count = 0\n",
        "for i in string:\n",
        "  count = count+1\n",
        "print(\"Length of the string is\",count)"
      ],
      "metadata": {
        "id": "ljncwUq2oHLe"
      },
      "execution_count": null,
      "outputs": []
    },
    {
      "cell_type": "code",
      "source": [
        "num_list = [2,4,6,8,10]\n",
        "for num in num_list:\n",
        "  print(num)\n",
        "else:\n",
        "  print(\"no more items left in the list\")"
      ],
      "metadata": {
        "id": "0PXKmyudoHIG"
      },
      "execution_count": null,
      "outputs": []
    },
    {
      "cell_type": "code",
      "source": [
        "characters = {\"a\",\"b\",\"c\",\"d\",\"e\"}\n",
        "for letter in characters:\n",
        "  print(letter)\n",
        "else:\n",
        "  print(\"No more characters left\")"
      ],
      "metadata": {
        "id": "ORcCKuxPoG_-"
      },
      "execution_count": null,
      "outputs": []
    },
    {
      "cell_type": "code",
      "source": [
        "us_cities = [\"New York\",\"Los Angeles\",\"Chicago\",\"Houston\",\"Phoenix\"]\n",
        "for city in us_cities:\n",
        "  if city == \"Houston\":\n",
        "    print(city,\"is present in the list\")"
      ],
      "metadata": {
        "id": "fxmX6jqgoGxo"
      },
      "execution_count": null,
      "outputs": []
    },
    {
      "cell_type": "code",
      "source": [
        "numbers=[11,33,55,39,2,55,75,37,22,41,13]\n",
        "for num in numbers:\n",
        "  if num%2==0:\n",
        "    print(\"The list contains an even number\",num)"
      ],
      "metadata": {
        "id": "VzAURbbk2_AH"
      },
      "execution_count": null,
      "outputs": []
    },
    {
      "cell_type": "code",
      "source": [
        "years = [2016,2017,2018,2019,2020,2024,2025,2026,2027,2028]\n",
        "for year in years:\n",
        "  if year%4==0:\n",
        "    print(year,\"is a leap year\")\n",
        "  else:\n",
        "    print(year,\"is not a leap year\")"
      ],
      "metadata": {
        "id": "Mb4SKxk33unj"
      },
      "execution_count": null,
      "outputs": []
    },
    {
      "cell_type": "code",
      "source": [
        "names = [[\"mary\",\"lynda\",\"jessika\"],\n",
        "         [\"aaa\",\"bbb\",\"ccc\"],\n",
        "         [\"xyz\",\"abc\",\"pqr\"]\n",
        "         ]\n",
        "\n",
        "for sublist in names:\n",
        "  print(sublist)\n"
      ],
      "metadata": {
        "id": "xlFe7E7q3uro"
      },
      "execution_count": null,
      "outputs": []
    },
    {
      "cell_type": "code",
      "source": [
        "for sublist in names:\n",
        "  for name in sublist:\n",
        "    print(name)"
      ],
      "metadata": {
        "id": "1kqpkiWQ3uvB"
      },
      "execution_count": null,
      "outputs": []
    },
    {
      "cell_type": "code",
      "source": [
        "colors_list = [\"red\",\"green\",\"blue\"]\n",
        "objects_list = [\"pen\",\"marker\",\"paper\"]\n",
        "for color in colors_list:\n",
        "  for obj in objects_list:\n",
        "    print(color,obj)"
      ],
      "metadata": {
        "id": "qlNpEQrS3uyB"
      },
      "execution_count": null,
      "outputs": []
    },
    {
      "cell_type": "code",
      "source": [
        "my_range = range(5)\n",
        "my_range"
      ],
      "metadata": {
        "id": "qyRDEHZt3u0y"
      },
      "execution_count": null,
      "outputs": []
    },
    {
      "cell_type": "code",
      "source": [
        "tuple(my_range)"
      ],
      "metadata": {
        "id": "9TdhgYGF3u5H"
      },
      "execution_count": null,
      "outputs": []
    },
    {
      "cell_type": "code",
      "source": [
        "list(my_range)"
      ],
      "metadata": {
        "id": "rrzzNt8G3u8B"
      },
      "execution_count": null,
      "outputs": []
    },
    {
      "cell_type": "code",
      "source": [
        "list(range(2,8))"
      ],
      "metadata": {
        "id": "wYTIGjWL3u_A"
      },
      "execution_count": null,
      "outputs": []
    },
    {
      "cell_type": "code",
      "source": [
        "list(range(-5,5))"
      ],
      "metadata": {
        "id": "LjZtT8Jx3vCA"
      },
      "execution_count": null,
      "outputs": []
    },
    {
      "cell_type": "code",
      "source": [
        "for i in range(6):\n",
        "  print(\"Hello\")"
      ],
      "metadata": {
        "id": "bm5oyLMxMeVu"
      },
      "execution_count": null,
      "outputs": []
    },
    {
      "cell_type": "code",
      "source": [
        "for num in range(5,10):\n",
        "  print(\"number\", num)"
      ],
      "metadata": {
        "id": "sruoI-8IOaQl",
        "outputId": "d91fde8a-77e6-4f0b-ef1c-f85b364a0e1e",
        "colab": {
          "base_uri": "https://localhost:8080/",
          "height": 158
        }
      },
      "execution_count": 125,
      "outputs": [
        {
          "output_type": "error",
          "ename": "TypeError",
          "evalue": "'int' object is not callable",
          "traceback": [
            "\u001b[0;31m---------------------------------------------------------------------------\u001b[0m",
            "\u001b[0;31mTypeError\u001b[0m                                 Traceback (most recent call last)",
            "\u001b[0;32m<ipython-input-125-73dcb437c59b>\u001b[0m in \u001b[0;36m<cell line: 0>\u001b[0;34m()\u001b[0m\n\u001b[0;32m----> 1\u001b[0;31m \u001b[0;32mfor\u001b[0m \u001b[0mnum\u001b[0m \u001b[0;32min\u001b[0m \u001b[0mrange\u001b[0m\u001b[0;34m(\u001b[0m\u001b[0;36m5\u001b[0m\u001b[0;34m,\u001b[0m\u001b[0;36m10\u001b[0m\u001b[0;34m)\u001b[0m\u001b[0;34m:\u001b[0m\u001b[0;34m\u001b[0m\u001b[0;34m\u001b[0m\u001b[0m\n\u001b[0m\u001b[1;32m      2\u001b[0m   \u001b[0mprint\u001b[0m\u001b[0;34m(\u001b[0m\u001b[0;34m\"number\"\u001b[0m\u001b[0;34m,\u001b[0m \u001b[0mnum\u001b[0m\u001b[0;34m)\u001b[0m\u001b[0;34m\u001b[0m\u001b[0;34m\u001b[0m\u001b[0m\n",
            "\u001b[0;31mTypeError\u001b[0m: 'int' object is not callable"
          ]
        }
      ]
    },
    {
      "cell_type": "code",
      "source": [],
      "metadata": {
        "id": "wIuxCcJdOaTd"
      },
      "execution_count": null,
      "outputs": []
    },
    {
      "cell_type": "code",
      "source": [],
      "metadata": {
        "id": "Ynz9lF8LOaWf"
      },
      "execution_count": null,
      "outputs": []
    }
  ]
}