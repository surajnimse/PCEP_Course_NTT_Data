{
  "nbformat": 4,
  "nbformat_minor": 0,
  "metadata": {
    "colab": {
      "provenance": [],
      "include_colab_link": true
    },
    "kernelspec": {
      "name": "python3",
      "display_name": "Python 3"
    },
    "language_info": {
      "name": "python"
    }
  },
  "cells": [
    {
      "cell_type": "markdown",
      "metadata": {
        "id": "view-in-github",
        "colab_type": "text"
      },
      "source": [
        "<a href=\"https://colab.research.google.com/github/surajnimse/PCEP_Course_NTT_Data/blob/main/pcep_getting_started_with_python_introduction.ipynb\" target=\"_parent\"><img src=\"https://colab.research.google.com/assets/colab-badge.svg\" alt=\"Open In Colab\"/></a>"
      ]
    },
    {
      "cell_type": "markdown",
      "source": [],
      "metadata": {
        "id": "kzedX0b3y6P0"
      }
    },
    {
      "cell_type": "code",
      "source": [],
      "metadata": {
        "id": "J3F7rLNUv4I-"
      },
      "execution_count": null,
      "outputs": []
    },
    {
      "cell_type": "code",
      "source": [
        "13//5"
      ],
      "metadata": {
        "id": "nuaYpDCKzoNY"
      },
      "execution_count": null,
      "outputs": []
    },
    {
      "cell_type": "code",
      "source": [
        "num1=10\n",
        "num2=20\n",
        "num3=num1 #\n",
        "num1=100\n",
        "print(num1,num2,num3)"
      ],
      "metadata": {
        "id": "zn5A8FHcz9bL"
      },
      "execution_count": null,
      "outputs": []
    },
    {
      "cell_type": "code",
      "source": [
        "'''\n",
        "num_x=\"2\"\n",
        "print(num_x)\n",
        "print(type(num_x))\n",
        "'''\n",
        "'''\n",
        "num_x==2\n",
        "print(num_x)\n",
        "print(type(num_x))\n",
        "'''\n",
        "num_x=2\n",
        "print(num_x)\n",
        "print(type(num_x))\n",
        "\n",
        "\n",
        "num_x=6-4\n",
        "print(num_x)\n",
        "print(type(num_x))\n",
        "\n"
      ],
      "metadata": {
        "id": "vOaFoydh0foz"
      },
      "execution_count": null,
      "outputs": []
    },
    {
      "cell_type": "code",
      "source": [
        "\"hello\"+\"world\"\n",
        "\"hello\"*3"
      ],
      "metadata": {
        "id": "tK6B5Bif10ll"
      },
      "execution_count": null,
      "outputs": []
    },
    {
      "cell_type": "code",
      "source": [
        "a=True\n",
        "b=True\n",
        "not b"
      ],
      "metadata": {
        "id": "igxZolM-2Q-Z"
      },
      "execution_count": null,
      "outputs": []
    },
    {
      "cell_type": "code",
      "source": [
        "'''''\n",
        "multi\n",
        "license\n",
        "'''''"
      ],
      "metadata": {
        "id": "lS9KBOLx2r12"
      },
      "execution_count": null,
      "outputs": []
    },
    {
      "cell_type": "code",
      "source": [
        "\"python --version\""
      ],
      "metadata": {
        "id": "SeHuquhq3Zgs"
      },
      "execution_count": null,
      "outputs": []
    },
    {
      "cell_type": "code",
      "source": [
        "bool\n",
        "number\n",
        "float\n",
        "character\n",
        "int"
      ],
      "metadata": {
        "id": "0ligGWLO3tGy"
      },
      "execution_count": null,
      "outputs": []
    },
    {
      "cell_type": "code",
      "source": [
        "cool_number = 12 + 30\n",
        "cool_number * 5\n",
        "print(cool_number)"
      ],
      "metadata": {
        "id": "tikcIb9DFAOD"
      },
      "execution_count": null,
      "outputs": []
    },
    {
      "cell_type": "code",
      "source": [
        "o_c = \"40.6\"\n",
        "n_c = \"60.8\"\n",
        "t_c = o_c + n_c\n",
        "t_c"
      ],
      "metadata": {
        "id": "r3XtkpKHv5b9"
      },
      "execution_count": null,
      "outputs": []
    },
    {
      "cell_type": "code",
      "source": [
        "t_c = float(o_c) + float(n_c)\n",
        "t_c"
      ],
      "metadata": {
        "id": "nb6Eko14wMVc"
      },
      "execution_count": null,
      "outputs": []
    },
    {
      "cell_type": "code",
      "source": [
        "value_str = \"Python world\"\n",
        "value_str = list(value_str)\n",
        "value_str"
      ],
      "metadata": {
        "id": "pri2L-ZSwsf9"
      },
      "execution_count": null,
      "outputs": []
    },
    {
      "cell_type": "code",
      "source": [
        "#swapping numbers\n",
        "a=20\n",
        "b=30\n",
        "c=0\n",
        "c=a\n",
        "a=b\n",
        "b=c\n",
        "print(\"a =\",a)\n",
        "print(\"b =\",b)"
      ],
      "metadata": {
        "id": "pNc_SAqJIgcN"
      },
      "execution_count": null,
      "outputs": []
    },
    {
      "cell_type": "code",
      "source": [
        "a=\"six\"\n",
        "b=(int(a),float(a))"
      ],
      "metadata": {
        "id": "NJmStI1KSnVg"
      },
      "execution_count": null,
      "outputs": []
    },
    {
      "cell_type": "code",
      "source": [
        "a = [1, 'one', {2: 'two'}, 3]\n",
        "b = len(a)\n",
        "\n",
        "if b == 4:\n",
        "   print('Length of this list is 4')\n",
        "   if b == 5:\n",
        "       print('Length of this list is 5')\n",
        "   else:\n",
        "         print(b)\n"
      ],
      "metadata": {
        "id": "IGiJMyM6TCTP"
      },
      "execution_count": null,
      "outputs": []
    },
    {
      "cell_type": "code",
      "source": [
        "new_list = [\"Red\", \"Blue\", \"White\", \"Green\"]\n",
        "z = sorted(new_list)\n",
        "#d = list(z)\n",
        "print(z)\n",
        "#print(d)"
      ],
      "metadata": {
        "id": "1j_UbkFuTlD1"
      },
      "execution_count": null,
      "outputs": []
    },
    {
      "cell_type": "code",
      "source": [
        "value = 4\n",
        "\n",
        "a = str(value)\n",
        "b = a + \"^\" + \"2\"\n",
        "c = a + \"^\" + \"3\"\n",
        "\n",
        "print(value, \"+\", b, \"+\", c)\n"
      ],
      "metadata": {
        "id": "UKXnnTYEUfV_"
      },
      "execution_count": null,
      "outputs": []
    },
    {
      "cell_type": "code",
      "source": [
        "if 'bin' in {'float': 1.2, 'bin': 0b010}:\n",
        "     print('a')\n",
        "     print('b')\n",
        "print('c')\n"
      ],
      "metadata": {
        "id": "ZCUU80wTVdUf"
      },
      "execution_count": null,
      "outputs": []
    },
    {
      "cell_type": "code",
      "source": [
        "if None:\n",
        "  print('Hi')\n"
      ],
      "metadata": {
        "id": "_xysWUGqVncH"
      },
      "execution_count": null,
      "outputs": []
    },
    {
      "cell_type": "code",
      "source": [
        "#What are the results of evaluating the conditional expression?\n",
        "\n",
        "a = 5\n",
        "b = 10\n",
        "c = \"five\"\n",
        "#a == c\n",
        "#a >= b\n",
        "not(a < b and a > b)\n"
      ],
      "metadata": {
        "id": "53D5GK6TV59c"
      },
      "execution_count": null,
      "outputs": []
    },
    {
      "cell_type": "code",
      "source": [
        "'1' + '2'\n"
      ],
      "metadata": {
        "id": "NKLaQKzLXTpV"
      },
      "execution_count": null,
      "outputs": []
    },
    {
      "cell_type": "code",
      "source": [
        "# For Loops\n",
        "\n",
        "for i in range(10):\n",
        "  print(i)"
      ],
      "metadata": {
        "id": "87dHCDmrj_kQ"
      },
      "execution_count": null,
      "outputs": []
    },
    {
      "cell_type": "code",
      "source": [
        "for letter in 'hello':\n",
        "  print(letter)"
      ],
      "metadata": {
        "id": "GbgK3Xx_kI8g"
      },
      "execution_count": null,
      "outputs": []
    },
    {
      "cell_type": "code",
      "source": [
        "for letter in ['h','e','l','l','o']:\n",
        "  print(letter)"
      ],
      "metadata": {
        "id": "2IhPavaTkI5f"
      },
      "execution_count": null,
      "outputs": []
    },
    {
      "cell_type": "code",
      "source": [
        "for char in 'hello':\n",
        "  print(char)"
      ],
      "metadata": {
        "id": "hfl7Kn4pkI2f"
      },
      "execution_count": null,
      "outputs": []
    },
    {
      "cell_type": "code",
      "source": [
        "my_str=\"Hello World\"\n",
        "for char in my_str:\n",
        "  print(char)"
      ],
      "metadata": {
        "id": "8D0Vtqo8kIzf"
      },
      "execution_count": null,
      "outputs": []
    },
    {
      "cell_type": "code",
      "source": [
        "for digit in \"10\":\n",
        "  print(digit)"
      ],
      "metadata": {
        "id": "FxfTYhXXkIwv"
      },
      "execution_count": null,
      "outputs": []
    },
    {
      "cell_type": "code",
      "source": [
        "for digit in 10:\n",
        "  print(digit)"
      ],
      "metadata": {
        "id": "KAX5EJaqkItv"
      },
      "execution_count": null,
      "outputs": []
    },
    {
      "cell_type": "code",
      "source": [
        "for country in \"India\",\"USA\",\"UK\":\n",
        "  print(country)"
      ],
      "metadata": {
        "id": "REha6gxdkIqf"
      },
      "execution_count": null,
      "outputs": []
    },
    {
      "cell_type": "code",
      "source": [
        "dogs= (\"pug\",\"husky\",\"golden retriever\")\n",
        "for dog in dogs:\n",
        "  print(\"its a \",dog)"
      ],
      "metadata": {
        "id": "yshb57dTkIm_"
      },
      "execution_count": null,
      "outputs": []
    },
    {
      "cell_type": "code",
      "source": [
        "dog_weight = ((\"Pug\",20),\n",
        "              (\"husky\",80),\n",
        "              (\"golden retriever\",50),\n",
        "              (\"bullmust\",40),\n",
        "              (\"bulldog\",40),\n",
        "              )\n",
        "for i,(dog,weight) in enumerate(dog_weight):\n",
        "  print(\"The dog at index %d is a %s and it's weight is %s\"%(i,dog,weight))"
      ],
      "metadata": {
        "id": "wDlvs9cikIc_"
      },
      "execution_count": null,
      "outputs": []
    },
    {
      "cell_type": "code",
      "source": [
        "friends = [\"John\",\"Sam\",\"Jill\"]\n",
        "for friends in friends:\n",
        "  print(\"Happy New Year,\",friends)"
      ],
      "metadata": {
        "id": "jbTgJuKboHtP"
      },
      "execution_count": null,
      "outputs": []
    },
    {
      "cell_type": "code",
      "source": [
        "students_score = {\"John\":70,\"Sam\":80,\"Jill\":50,\"jack\":45,\"cook\":89,\"stell\":46}\n",
        "for student in students_score:\n",
        "  print(student)"
      ],
      "metadata": {
        "id": "Sypy7YeVoHqY"
      },
      "execution_count": null,
      "outputs": []
    },
    {
      "cell_type": "code",
      "source": [
        "for student in students_score:\n",
        "  score = students_score[student]\n",
        "  print(student,\" : \",score)"
      ],
      "metadata": {
        "id": "IzLJYQXPoHnG"
      },
      "execution_count": null,
      "outputs": []
    },
    {
      "cell_type": "code",
      "source": [
        "students_score.keys()"
      ],
      "metadata": {
        "id": "gzX_WNKJoHju"
      },
      "execution_count": null,
      "outputs": []
    },
    {
      "cell_type": "code",
      "source": [
        "students_score.values()"
      ],
      "metadata": {
        "id": "iJDuaw8boHhA"
      },
      "execution_count": null,
      "outputs": []
    },
    {
      "cell_type": "code",
      "source": [
        "for key in students_score:\n",
        "  print(key,students_score[key])"
      ],
      "metadata": {
        "id": "nrSKA8NOoHdu"
      },
      "execution_count": null,
      "outputs": []
    },
    {
      "cell_type": "code",
      "source": [
        "for key_value in students_score.items():\n",
        "  print(key_value)\n",
        "print(type(key_value))"
      ],
      "metadata": {
        "id": "FzwI-8AboHav"
      },
      "execution_count": null,
      "outputs": []
    },
    {
      "cell_type": "code",
      "source": [
        "# Else\n",
        "\n",
        "for student,score in students_score.items():\n",
        "  print(\"Student :\", student,\"\\t Score\", score)\n",
        "else:\n",
        "  print(\"Loop Completed\")"
      ],
      "metadata": {
        "id": "U7PuTDtUoHX3"
      },
      "execution_count": null,
      "outputs": []
    },
    {
      "cell_type": "code",
      "source": [
        "numbers = [4,6,9,10]\n",
        "for num in numbers:\n",
        "  quotient = num //2\n",
        "  print(quotient, \"is the quotient of\", num, \"/2\")\n",
        "else:\n",
        "  print(\"All the numbers are processed\")"
      ],
      "metadata": {
        "id": "ET1AzSiRoHVG"
      },
      "execution_count": null,
      "outputs": []
    },
    {
      "cell_type": "code",
      "source": [
        "mixed_list = [145,\n",
        "              10.5,\n",
        "              1+3j,\n",
        "              True,\n",
        "              \"Python\",\n",
        "              (0,-1),\n",
        "               [2,-5],\n",
        "               {\"Class\":\"V\",\"Section\":\"A\"},\n",
        "              ]\n",
        "for item in mixed_list:\n",
        "  print(\"Type of \",item,\"is\",type(item))\n"
      ],
      "metadata": {
        "id": "9DDBH32moHSO"
      },
      "execution_count": null,
      "outputs": []
    },
    {
      "cell_type": "code",
      "source": [
        "num_list = [2,4,6,8,10]\n",
        "for num in num_list:\n",
        "  square = num**2\n",
        "  #print(\"Square of \",num,\"is\",num**2)   #directly calculated in print statement.\n",
        "  print(\"Square of \",num,\"is\",square)"
      ],
      "metadata": {
        "id": "2yrinD2ooHO3"
      },
      "execution_count": null,
      "outputs": []
    },
    {
      "cell_type": "code",
      "source": [
        "string = input(\"Enter a string: \")\n",
        "count = 0\n",
        "for i in string:\n",
        "  count = count+1\n",
        "print(\"Length of the string is\",count)"
      ],
      "metadata": {
        "id": "ljncwUq2oHLe"
      },
      "execution_count": null,
      "outputs": []
    },
    {
      "cell_type": "code",
      "source": [
        "num_list = [2,4,6,8,10]\n",
        "for num in num_list:\n",
        "  print(num)\n",
        "else:\n",
        "  print(\"no more items left in the list\")"
      ],
      "metadata": {
        "id": "0PXKmyudoHIG"
      },
      "execution_count": null,
      "outputs": []
    },
    {
      "cell_type": "code",
      "source": [
        "characters = {\"a\",\"b\",\"c\",\"d\",\"e\"}\n",
        "for letter in characters:\n",
        "  print(letter)\n",
        "else:\n",
        "  print(\"No more characters left\")"
      ],
      "metadata": {
        "id": "ORcCKuxPoG_-"
      },
      "execution_count": null,
      "outputs": []
    },
    {
      "cell_type": "code",
      "source": [
        "us_cities = [\"New York\",\"Los Angeles\",\"Chicago\",\"Houston\",\"Phoenix\"]\n",
        "for city in us_cities:\n",
        "  if city == \"Houston\":\n",
        "    print(city,\"is present in the list\")"
      ],
      "metadata": {
        "id": "fxmX6jqgoGxo"
      },
      "execution_count": null,
      "outputs": []
    },
    {
      "cell_type": "code",
      "source": [
        "numbers=[11,33,55,39,2,55,75,37,22,41,13]\n",
        "for num in numbers:\n",
        "  if num%2==0:\n",
        "    print(\"The list contains an even number\",num)"
      ],
      "metadata": {
        "id": "VzAURbbk2_AH"
      },
      "execution_count": null,
      "outputs": []
    },
    {
      "cell_type": "code",
      "source": [
        "years = [2016,2017,2018,2019,2020,2024,2025,2026,2027,2028]\n",
        "for year in years:\n",
        "  if year%4==0:\n",
        "    print(year,\"is a leap year\")\n",
        "  else:\n",
        "    print(year,\"is not a leap year\")"
      ],
      "metadata": {
        "id": "Mb4SKxk33unj"
      },
      "execution_count": null,
      "outputs": []
    },
    {
      "cell_type": "code",
      "source": [
        "names = [[\"mary\",\"lynda\",\"jessika\"],\n",
        "         [\"aaa\",\"bbb\",\"ccc\"],\n",
        "         [\"xyz\",\"abc\",\"pqr\"]\n",
        "         ]\n",
        "\n",
        "for sublist in names:\n",
        "  print(sublist)\n"
      ],
      "metadata": {
        "id": "xlFe7E7q3uro"
      },
      "execution_count": null,
      "outputs": []
    },
    {
      "cell_type": "code",
      "source": [
        "for sublist in names:\n",
        "  for name in sublist:\n",
        "    print(name)"
      ],
      "metadata": {
        "id": "1kqpkiWQ3uvB"
      },
      "execution_count": null,
      "outputs": []
    },
    {
      "cell_type": "code",
      "source": [
        "colors_list = [\"red\",\"green\",\"blue\"]\n",
        "objects_list = [\"pen\",\"marker\",\"paper\"]\n",
        "for color in colors_list:\n",
        "  for obj in objects_list:\n",
        "    print(color,obj)"
      ],
      "metadata": {
        "id": "qlNpEQrS3uyB"
      },
      "execution_count": null,
      "outputs": []
    },
    {
      "cell_type": "code",
      "source": [
        "my_range = range(5)\n",
        "my_range"
      ],
      "metadata": {
        "id": "qyRDEHZt3u0y"
      },
      "execution_count": null,
      "outputs": []
    },
    {
      "cell_type": "code",
      "source": [
        "tuple(my_range)"
      ],
      "metadata": {
        "id": "9TdhgYGF3u5H"
      },
      "execution_count": null,
      "outputs": []
    },
    {
      "cell_type": "code",
      "source": [
        "list(my_range)"
      ],
      "metadata": {
        "id": "rrzzNt8G3u8B"
      },
      "execution_count": null,
      "outputs": []
    },
    {
      "cell_type": "code",
      "source": [
        "list(range(2,8))"
      ],
      "metadata": {
        "id": "wYTIGjWL3u_A"
      },
      "execution_count": null,
      "outputs": []
    },
    {
      "cell_type": "code",
      "source": [
        "list(range(-5,5))"
      ],
      "metadata": {
        "id": "LjZtT8Jx3vCA"
      },
      "execution_count": null,
      "outputs": []
    },
    {
      "cell_type": "code",
      "source": [
        "for i in range(6):\n",
        "  print(\"Hello\")"
      ],
      "metadata": {
        "id": "bm5oyLMxMeVu"
      },
      "execution_count": null,
      "outputs": []
    },
    {
      "cell_type": "code",
      "source": [
        "for num in range(5,10):\n",
        "  print(\"number\", num)"
      ],
      "metadata": {
        "id": "sruoI-8IOaQl",
        "outputId": "a747adc7-d650-4356-b65e-52af7b8b7ab4",
        "colab": {
          "base_uri": "https://localhost:8080/"
        }
      },
      "execution_count": 1,
      "outputs": [
        {
          "output_type": "stream",
          "name": "stdout",
          "text": [
            "number 5\n",
            "number 6\n",
            "number 7\n",
            "number 8\n",
            "number 9\n"
          ]
        }
      ]
    },
    {
      "cell_type": "code",
      "source": [
        "# Break Statement in for loop\n",
        "for letter in \"Python\":\n",
        "  if letter == \"h\":\n",
        "    break\n",
        "  print(\"Current Letter:\",letter)"
      ],
      "metadata": {
        "id": "wIuxCcJdOaTd",
        "outputId": "91c6c2d2-3221-4724-8ce8-9b2e18ac1b68",
        "colab": {
          "base_uri": "https://localhost:8080/"
        }
      },
      "execution_count": 2,
      "outputs": [
        {
          "output_type": "stream",
          "name": "stdout",
          "text": [
            "Current Letter: P\n",
            "Current Letter: y\n",
            "Current Letter: t\n"
          ]
        }
      ]
    },
    {
      "cell_type": "code",
      "source": [
        "# Break Statement in for loop\n",
        "for letter in \"Python\":\n",
        "    print(\"Current Letter:\",letter)\n",
        "    if letter == \"h\":\n",
        "      break\n"
      ],
      "metadata": {
        "id": "Ynz9lF8LOaWf",
        "outputId": "2ce5fa29-533a-4aa7-c211-c71ae5a5b506",
        "colab": {
          "base_uri": "https://localhost:8080/"
        }
      },
      "execution_count": 6,
      "outputs": [
        {
          "output_type": "stream",
          "name": "stdout",
          "text": [
            "Current Letter: P\n",
            "Current Letter: y\n",
            "Current Letter: t\n",
            "Current Letter: h\n"
          ]
        }
      ]
    },
    {
      "cell_type": "code",
      "source": [
        "for letter in \"icecream\":\n",
        "  if letter == \"n\":\n",
        "    print(\"Letter C Found in string:\",letter)\n",
        "    break\n",
        "else:\n",
        "    print(\"Letter C Not Found:\",letter)"
      ],
      "metadata": {
        "id": "7DZDwCrzS7ra",
        "outputId": "2a4bb07c-7759-432a-bb12-662e9a4b7cf4",
        "colab": {
          "base_uri": "https://localhost:8080/"
        }
      },
      "execution_count": 11,
      "outputs": [
        {
          "output_type": "stream",
          "name": "stdout",
          "text": [
            "Letter C Not Found: m\n"
          ]
        }
      ]
    },
    {
      "cell_type": "code",
      "source": [
        "mylist = range(10)\n",
        "for i in mylist:\n",
        "    if i == 8:\n",
        "        break\n",
        "    print(i)"
      ],
      "metadata": {
        "id": "QoWlgx7npZsA",
        "outputId": "f24ea516-e003-46a1-eaa1-227af921fa43",
        "colab": {
          "base_uri": "https://localhost:8080/"
        }
      },
      "execution_count": 23,
      "outputs": [
        {
          "output_type": "stream",
          "name": "stdout",
          "text": [
            "0\n",
            "1\n",
            "2\n",
            "3\n",
            "4\n",
            "5\n",
            "6\n",
            "7\n"
          ]
        }
      ]
    },
    {
      "cell_type": "code",
      "source": [
        "for i in range (1,10):\n",
        "  if i >= 5:\n",
        "    break\n",
        "  print(i,\"is less than 5\")"
      ],
      "metadata": {
        "id": "KWGUuaEZqQ43",
        "outputId": "8c3198e3-ce23-4c74-edad-dc859a3765cc",
        "colab": {
          "base_uri": "https://localhost:8080/"
        }
      },
      "execution_count": 25,
      "outputs": [
        {
          "output_type": "stream",
          "name": "stdout",
          "text": [
            "1 is less than 5\n",
            "2 is less than 5\n",
            "3 is less than 5\n",
            "4 is less than 5\n"
          ]
        }
      ]
    },
    {
      "cell_type": "code",
      "source": [
        "mylist = range(100)\n",
        "for i in mylist:\n",
        "    if i ** 2 >= 100:\n",
        "      break\n",
        "    print(i,\"square\",i ** 2)"
      ],
      "metadata": {
        "id": "sc8ZJVo5qyp3",
        "outputId": "b75eb2e6-fea3-4efe-a47f-24ac43485183",
        "colab": {
          "base_uri": "https://localhost:8080/"
        }
      },
      "execution_count": 33,
      "outputs": [
        {
          "output_type": "stream",
          "name": "stdout",
          "text": [
            "0 square 0\n",
            "1 square 1\n",
            "2 square 4\n",
            "3 square 9\n",
            "4 square 16\n",
            "5 square 25\n",
            "6 square 36\n",
            "7 square 49\n",
            "8 square 64\n",
            "9 square 81\n"
          ]
        }
      ]
    },
    {
      "cell_type": "code",
      "source": [
        "num = int(input(\"Enter a number :  \"))\n",
        "for i in range(2,num):\n",
        "  if num % i ==0:\n",
        "    print(num,\"is not a prime number\")\n",
        "    break\n",
        "else:\n",
        "  print(num,\"is a prime number\")"
      ],
      "metadata": {
        "id": "2mUf2zE0unV5",
        "outputId": "f322dad0-9ab5-4878-edd3-fe5df68636bb",
        "colab": {
          "base_uri": "https://localhost:8080/"
        }
      },
      "execution_count": 57,
      "outputs": [
        {
          "output_type": "stream",
          "name": "stdout",
          "text": [
            "Enter a number :  12\n",
            "12 is not a prime number\n"
          ]
        }
      ]
    },
    {
      "cell_type": "code",
      "source": [
        "for i in range(3):\n",
        "  password = str(input(\"Enter Password  :\"))\n",
        "  if password == \"suraj\":\n",
        "    print(\"access granted\")\n",
        "    break\n",
        "  else:\n",
        "    print(\"3 time wrong password entered\")"
      ],
      "metadata": {
        "id": "Rf4Ljbpby8Sn",
        "outputId": "e0ae90e8-8f89-4453-92d0-4b17bf4ef4d0",
        "colab": {
          "base_uri": "https://localhost:8080/"
        }
      },
      "execution_count": 59,
      "outputs": [
        {
          "output_type": "stream",
          "name": "stdout",
          "text": [
            "Enter Password  :sura\n",
            "3 time wrong password entered\n",
            "Enter Password  :sur\n",
            "3 time wrong password entered\n",
            "Enter Password  :dhdh\n",
            "3 time wrong password entered\n"
          ]
        }
      ]
    },
    {
      "cell_type": "code",
      "source": [
        "for letter in \"string\":\n",
        "  if letter == \"i\":\n",
        "    continue\n",
        "  print(letter)\n",
        "print(\"The End\")"
      ],
      "metadata": {
        "id": "hnP3Bm1m0kaP",
        "outputId": "8591acb4-3600-44db-bfe8-04835061847a",
        "colab": {
          "base_uri": "https://localhost:8080/"
        }
      },
      "execution_count": 60,
      "outputs": [
        {
          "output_type": "stream",
          "name": "stdout",
          "text": [
            "s\n",
            "t\n",
            "r\n",
            "n\n",
            "g\n",
            "The End\n"
          ]
        }
      ]
    },
    {
      "cell_type": "code",
      "source": [
        "for letter in \"students\":\n",
        "  if (letter == \"e\" or letter == \"s\"):\n",
        "    continue\n",
        "  else:\n",
        "      print(letter)\n",
        "print(\"The End\")"
      ],
      "metadata": {
        "id": "FqJwnnC91Oe8",
        "outputId": "a832cdbd-c894-4549-ab87-7faa376abd46",
        "colab": {
          "base_uri": "https://localhost:8080/"
        }
      },
      "execution_count": 62,
      "outputs": [
        {
          "output_type": "stream",
          "name": "stdout",
          "text": [
            "t\n",
            "u\n",
            "d\n",
            "n\n",
            "t\n",
            "The End\n"
          ]
        }
      ]
    },
    {
      "cell_type": "code",
      "source": [
        "for i in range(1,10):\n",
        "  if i % 2 ==0:\n",
        "    print(i,\"  Even Numner\")\n",
        "  else:\n",
        "    continue\n",
        "  print(\"Yes\")"
      ],
      "metadata": {
        "id": "EYb-Uu_J1xk8",
        "outputId": "2641983e-050c-43a7-91a8-dfd93d08d398",
        "colab": {
          "base_uri": "https://localhost:8080/"
        }
      },
      "execution_count": 65,
      "outputs": [
        {
          "output_type": "stream",
          "name": "stdout",
          "text": [
            "2   Even Numner\n",
            "Yes\n",
            "4   Even Numner\n",
            "Yes\n",
            "6   Even Numner\n",
            "Yes\n",
            "8   Even Numner\n",
            "Yes\n"
          ]
        }
      ]
    },
    {
      "cell_type": "code",
      "source": [
        "for i in range(1,10):\n",
        "  if i % 2 ==0:\n",
        "    print(i,\"  Even Number\")\n",
        "    continue"
      ],
      "metadata": {
        "id": "ezTnQcxl3Jt1",
        "outputId": "ba1b8f7b-a0b2-4498-b0b8-a72d451831ca",
        "colab": {
          "base_uri": "https://localhost:8080/"
        }
      },
      "execution_count": 66,
      "outputs": [
        {
          "output_type": "stream",
          "name": "stdout",
          "text": [
            "2   Even Numner\n",
            "4   Even Numner\n",
            "6   Even Numner\n",
            "8   Even Numner\n"
          ]
        }
      ]
    }
  ]
}